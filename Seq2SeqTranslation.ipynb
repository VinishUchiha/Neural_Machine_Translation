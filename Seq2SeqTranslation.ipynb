{
  "nbformat": 4,
  "nbformat_minor": 0,
  "metadata": {
    "colab": {
      "name": "Seq2SeqTranslation.ipynb",
      "provenance": [],
      "authorship_tag": "ABX9TyNZcpuoOol/H9XYy9296g8F",
      "include_colab_link": true
    },
    "kernelspec": {
      "name": "python3",
      "display_name": "Python 3"
    },
    "accelerator": "GPU"
  },
  "cells": [
    {
      "cell_type": "markdown",
      "metadata": {
        "id": "view-in-github",
        "colab_type": "text"
      },
      "source": [
        "<a href=\"https://colab.research.google.com/github/VinishUchiha/Neural_Machine_Translation/blob/master/Seq2SeqTranslation.ipynb\" target=\"_parent\"><img src=\"https://colab.research.google.com/assets/colab-badge.svg\" alt=\"Open In Colab\"/></a>"
      ]
    },
    {
      "cell_type": "code",
      "metadata": {
        "id": "12cWB8818Sd_",
        "colab_type": "code",
        "colab": {}
      },
      "source": [
        "import os\n",
        "import sys\n",
        "\n",
        "from tensorflow.keras.models import Model\n",
        "from tensorflow.keras.layers import Input, LSTM, GRU, Dense, Embedding\n",
        "from tensorflow.keras.preprocessing.text import Tokenizer\n",
        "from tensorflow.keras.preprocessing.sequence import pad_sequences\n",
        "from tensorflow.keras.utils import to_categorical\n",
        "import numpy as np\n",
        "import matplotlib.pyplot as plt"
      ],
      "execution_count": 0,
      "outputs": []
    },
    {
      "cell_type": "code",
      "metadata": {
        "id": "3hgiggrG8hjF",
        "colab_type": "code",
        "colab": {}
      },
      "source": [
        "MAX_SEQUENCE_LENGTH = 100\n",
        "MAX_NUM_WORDS = 20000\n",
        "EMBEDDING_DIM = 100\n",
        "NUM_SAMPLES = 10000\n",
        "BATCH_SIZE = 128\n",
        "EPOCHS = 100\n",
        "LATENT_DIM = 256"
      ],
      "execution_count": 0,
      "outputs": []
    },
    {
      "cell_type": "code",
      "metadata": {
        "id": "8n4yhvOx8_zl",
        "colab_type": "code",
        "outputId": "bf0e0823-061c-47c9-b3a7-0c4f75398057",
        "colab": {
          "base_uri": "https://localhost:8080/",
          "height": 228
        }
      },
      "source": [
        "!wget https://www.manythings.org/anki/spa-eng.zip"
      ],
      "execution_count": 0,
      "outputs": [
        {
          "output_type": "stream",
          "text": [
            "--2020-05-20 17:37:31--  https://www.manythings.org/anki/spa-eng.zip\n",
            "Resolving www.manythings.org (www.manythings.org)... 104.24.109.196, 104.24.108.196, 2606:4700:3033::6818:6dc4, ...\n",
            "Connecting to www.manythings.org (www.manythings.org)|104.24.109.196|:443... connected.\n",
            "HTTP request sent, awaiting response... 200 OK\n",
            "Length: 4781548 (4.6M) [application/zip]\n",
            "Saving to: ‘spa-eng.zip’\n",
            "\n",
            "spa-eng.zip         100%[===================>]   4.56M  3.17MB/s    in 1.4s    \n",
            "\n",
            "2020-05-20 17:37:33 (3.17 MB/s) - ‘spa-eng.zip’ saved [4781548/4781548]\n",
            "\n"
          ],
          "name": "stdout"
        }
      ]
    },
    {
      "cell_type": "code",
      "metadata": {
        "id": "78mje0XT9B4z",
        "colab_type": "code",
        "outputId": "83b92dbe-211e-490d-d83f-c079e7ac2007",
        "colab": {
          "base_uri": "https://localhost:8080/",
          "height": 69
        }
      },
      "source": [
        "!unzip spa-eng.zip"
      ],
      "execution_count": 0,
      "outputs": [
        {
          "output_type": "stream",
          "text": [
            "Archive:  spa-eng.zip\n",
            "  inflating: _about.txt              \n",
            "  inflating: spa.txt                 \n"
          ],
          "name": "stdout"
        }
      ]
    },
    {
      "cell_type": "code",
      "metadata": {
        "id": "PvPMqTWY8hfF",
        "colab_type": "code",
        "outputId": "adceee73-53f0-4802-fd79-b4e8160ee045",
        "colab": {
          "base_uri": "https://localhost:8080/",
          "height": 34
        }
      },
      "source": [
        "#STORE THE DATA\n",
        "input_texts = []\n",
        "target_texts = []\n",
        "target_texts_inputs = []\n",
        "\n",
        "t = 0\n",
        "for line in open('/content/spa.txt'):\n",
        "  t += 1\n",
        "  if t > NUM_SAMPLES:\n",
        "    break\n",
        "\n",
        "  #input & target are seperated by tab\n",
        "  if '\\t' not in line:\n",
        "    continue\n",
        "\n",
        "  input_text, translation, _ = line.split('\\t')\n",
        "\n",
        "  target_text = translation + ' <eos>'\n",
        "  target_text_input = '<sos> ' + translation\n",
        "\n",
        "  input_texts.append(input_text)\n",
        "  target_texts.append(target_text)\n",
        "  target_texts_inputs.append(target_text_input)\n",
        "print('num samples:',len(input_texts))"
      ],
      "execution_count": 0,
      "outputs": [
        {
          "output_type": "stream",
          "text": [
            "num samples: 10000\n"
          ],
          "name": "stdout"
        }
      ]
    },
    {
      "cell_type": "code",
      "metadata": {
        "id": "JHYY_RNa8hbq",
        "colab_type": "code",
        "outputId": "24755488-f311-4862-b5fd-2a44a4f3daef",
        "colab": {
          "base_uri": "https://localhost:8080/",
          "height": 121
        }
      },
      "source": [
        "#tokenize the inputs\n",
        "tokenizer_inputs = Tokenizer(num_words=MAX_NUM_WORDS)\n",
        "tokenizer_inputs.fit_on_texts(input_texts)\n",
        "input_sequences = tokenizer_inputs.texts_to_sequences(input_texts)\n",
        "\n",
        "word2idx_inputs = tokenizer_inputs.word_index\n",
        "print(f'Found {len(word2idx_inputs)} unique input tokens')\n",
        "\n",
        "max_len_input = max(len(s) for s in input_sequences)\n",
        "\n",
        "tokenizer_outputs = Tokenizer(num_words=MAX_NUM_WORDS,filters='')\n",
        "tokenizer_outputs.fit_on_texts(target_texts + target_texts_inputs)\n",
        "target_sequences = tokenizer_outputs.texts_to_sequences(target_texts)\n",
        "target_sequences_inputs = tokenizer_outputs.texts_to_sequences(target_texts_inputs)\n",
        "\n",
        "word2idx_outputs = tokenizer_outputs.word_index\n",
        "print(f'Found {len(word2idx_outputs)} unique output tokens')\n",
        "\n",
        "num_words_output = len(word2idx_outputs) + 1\n",
        "\n",
        "max_len_target = max(len(s) for s in target_sequences)\n",
        "\n",
        "#pad the sequences\n",
        "encoder_inputs = pad_sequences(input_sequences,maxlen=max_len_input)\n",
        "print('encoder data shape:',encoder_inputs.shape)\n",
        "print('encoder data[0]:',encoder_inputs[0])\n",
        "\n",
        "decoder_inputs = pad_sequences(target_sequences_inputs,maxlen=max_len_target,padding='post')\n",
        "print('decoder data shape:',decoder_inputs.shape)\n",
        "print('decoder data[0]:',decoder_inputs[0])\n",
        "\n",
        "decoder_targets = pad_sequences(target_sequences,maxlen=max_len_target,padding='post')"
      ],
      "execution_count": 0,
      "outputs": [
        {
          "output_type": "stream",
          "text": [
            "Found 2350 unique input tokens\n",
            "Found 6323 unique output tokens\n",
            "encoder data shape: (10000, 5)\n",
            "encoder data[0]: [ 0  0  0  0 13]\n",
            "decoder data shape: (10000, 9)\n",
            "decoder data[0]: [   2 1466    0    0    0    0    0    0    0]\n"
          ],
          "name": "stdout"
        }
      ]
    },
    {
      "cell_type": "code",
      "metadata": {
        "id": "bzqxYx6dDWjV",
        "colab_type": "code",
        "outputId": "b927916a-bb59-4e70-fdf6-e1d22d82f112",
        "colab": {
          "base_uri": "https://localhost:8080/",
          "height": 364
        }
      },
      "source": [
        "#Downloading Glove Vector #colab\n",
        "!wget http://nlp.stanford.edu/data/glove.6B.zip"
      ],
      "execution_count": 0,
      "outputs": [
        {
          "output_type": "stream",
          "text": [
            "--2020-05-20 17:37:39--  http://nlp.stanford.edu/data/glove.6B.zip\n",
            "Resolving nlp.stanford.edu (nlp.stanford.edu)... 171.64.67.140\n",
            "Connecting to nlp.stanford.edu (nlp.stanford.edu)|171.64.67.140|:80... connected.\n",
            "HTTP request sent, awaiting response... 302 Found\n",
            "Location: https://nlp.stanford.edu/data/glove.6B.zip [following]\n",
            "--2020-05-20 17:37:39--  https://nlp.stanford.edu/data/glove.6B.zip\n",
            "Connecting to nlp.stanford.edu (nlp.stanford.edu)|171.64.67.140|:443... connected.\n",
            "HTTP request sent, awaiting response... 301 Moved Permanently\n",
            "Location: http://downloads.cs.stanford.edu/nlp/data/glove.6B.zip [following]\n",
            "--2020-05-20 17:37:40--  http://downloads.cs.stanford.edu/nlp/data/glove.6B.zip\n",
            "Resolving downloads.cs.stanford.edu (downloads.cs.stanford.edu)... 171.64.64.22\n",
            "Connecting to downloads.cs.stanford.edu (downloads.cs.stanford.edu)|171.64.64.22|:80... connected.\n",
            "HTTP request sent, awaiting response... 200 OK\n",
            "Length: 862182613 (822M) [application/zip]\n",
            "Saving to: ‘glove.6B.zip’\n",
            "\n",
            "glove.6B.zip        100%[===================>] 822.24M  2.05MB/s    in 6m 30s  \n",
            "\n",
            "2020-05-20 17:44:10 (2.11 MB/s) - ‘glove.6B.zip’ saved [862182613/862182613]\n",
            "\n"
          ],
          "name": "stdout"
        }
      ]
    },
    {
      "cell_type": "code",
      "metadata": {
        "id": "EHASaNnlDa_v",
        "colab_type": "code",
        "outputId": "63ed3672-3ec9-40f0-dfb5-79654a3d3e5f",
        "colab": {
          "base_uri": "https://localhost:8080/",
          "height": 104
        }
      },
      "source": [
        "#unziping #colab\n",
        "!unzip glove.6B.zip"
      ],
      "execution_count": 0,
      "outputs": [
        {
          "output_type": "stream",
          "text": [
            "Archive:  glove.6B.zip\n",
            "  inflating: glove.6B.50d.txt        \n",
            "  inflating: glove.6B.100d.txt       \n",
            "  inflating: glove.6B.200d.txt       \n",
            "  inflating: glove.6B.300d.txt       \n"
          ],
          "name": "stdout"
        }
      ]
    },
    {
      "cell_type": "code",
      "metadata": {
        "id": "mbjvzENX8g3R",
        "colab_type": "code",
        "outputId": "6c5070f6-c0ab-4e13-c7ad-5ba6a298abc1",
        "colab": {
          "base_uri": "https://localhost:8080/",
          "height": 34
        }
      },
      "source": [
        "#load pre-trained vectors\n",
        "word2vec = {}\n",
        "with open(os.path.join('/content/glove.6B.100d.txt')) as f:\n",
        "  for line in f:\n",
        "    values = line.split()\n",
        "    word = values[0]\n",
        "    vec = np.asarray(values[1:],dtype='float32')\n",
        "    word2vec[word] = vec\n",
        "print('Found {} word vectors'.format(len(word2vec)))"
      ],
      "execution_count": 0,
      "outputs": [
        {
          "output_type": "stream",
          "text": [
            "Found 400000 word vectors\n"
          ],
          "name": "stdout"
        }
      ]
    },
    {
      "cell_type": "code",
      "metadata": {
        "id": "8egtMP6B8g0E",
        "colab_type": "code",
        "colab": {}
      },
      "source": [
        "#prepare embedding matrix\n",
        "num_words = min(MAX_NUM_WORDS,len(word2idx_inputs)+1)\n",
        "embedding_matrix = np.zeros((num_words,EMBEDDING_DIM))\n",
        "for word,i in word2idx_inputs.items():\n",
        "  if i < MAX_NUM_WORDS:\n",
        "    embedding_vector = word2vec.get(word)\n",
        "    if embedding_vector is not None:\n",
        "      embedding_matrix[i] = embedding_vector"
      ],
      "execution_count": 0,
      "outputs": []
    },
    {
      "cell_type": "code",
      "metadata": {
        "id": "g0fJMR2UEDC7",
        "colab_type": "code",
        "colab": {}
      },
      "source": [
        "#create embedding layer\n",
        "embedding_layer = Embedding(num_words,EMBEDDING_DIM,\n",
        "                            weights=[embedding_matrix],input_length=max_len_input)"
      ],
      "execution_count": 0,
      "outputs": []
    },
    {
      "cell_type": "code",
      "metadata": {
        "id": "rgWYE2lnEkf1",
        "colab_type": "code",
        "colab": {}
      },
      "source": [
        "decoder_targets_one_hot = np.zeros((\n",
        "    len(input_texts),max_len_target,num_words_output\n",
        "),dtype='float32')\n",
        "\n",
        "#assign the values\n",
        "for i, d in enumerate(decoder_targets):\n",
        "  for t, word in enumerate(d):\n",
        "    decoder_targets_one_hot[i,t,word] = 1"
      ],
      "execution_count": 0,
      "outputs": []
    },
    {
      "cell_type": "code",
      "metadata": {
        "id": "ZbOlC1Y9ECzS",
        "colab_type": "code",
        "colab": {}
      },
      "source": [
        "#build the model\n",
        "encoder_inputs_placeholder = Input(shape=(max_len_input,))\n",
        "x = embedding_layer(encoder_inputs_placeholder)\n",
        "encoder = LSTM(LATENT_DIM,return_state=True,dropout=0.5)\n",
        "encoder_outputs,h,c = encoder(x)\n",
        "\n",
        "#keep only the states to pass decoder\n",
        "encoder_states = [h,c]\n",
        "\n",
        "#setup decoder using [h,c] as initial state\n",
        "decoder_inputs_placeholder = Input(shape=(max_len_target,))\n",
        "\n",
        "decoder_embedding = Embedding(num_words_output,LATENT_DIM)\n",
        "decoder_inputs_x = decoder_embedding(decoder_inputs_placeholder)\n",
        "\n",
        "decoder_lstm = LSTM(LATENT_DIM,return_sequences=True,return_state=True,dropout=0.5)\n",
        "decoder_outputs,_,_ = decoder_lstm(decoder_inputs_x,initial_state=encoder_states)\n",
        "\n",
        "#final dense layer for prediction\n",
        "decoder_dense = Dense(num_words_output,activation='softmax')\n",
        "decoder_outputs = decoder_dense(decoder_outputs)\n",
        "\n",
        "model = Model([encoder_inputs_placeholder,decoder_inputs_placeholder],decoder_outputs)"
      ],
      "execution_count": 0,
      "outputs": []
    },
    {
      "cell_type": "code",
      "metadata": {
        "id": "b_gGj12hIArv",
        "colab_type": "code",
        "outputId": "a01b3a74-1609-41bb-e3a7-a1ab68befecf",
        "colab": {
          "base_uri": "https://localhost:8080/",
          "height": 1000
        }
      },
      "source": [
        "#compile and train\n",
        "model.compile(optimizer='rmsprop',loss='categorical_crossentropy',metrics=['accuracy'])\n",
        "train = model.fit([encoder_inputs,decoder_inputs],decoder_targets_one_hot,\n",
        "                  batch_size=BATCH_SIZE,epochs=EPOCHS,validation_split=0.2)"
      ],
      "execution_count": 0,
      "outputs": [
        {
          "output_type": "stream",
          "text": [
            "Epoch 1/100\n",
            "63/63 [==============================] - 5s 75ms/step - loss: 2.9832 - accuracy: 0.6207 - val_loss: 2.8080 - val_accuracy: 0.6313\n",
            "Epoch 2/100\n",
            "63/63 [==============================] - 4s 58ms/step - loss: 2.1759 - accuracy: 0.7061 - val_loss: 2.6482 - val_accuracy: 0.6522\n",
            "Epoch 3/100\n",
            "63/63 [==============================] - 4s 58ms/step - loss: 2.0052 - accuracy: 0.7148 - val_loss: 2.5302 - val_accuracy: 0.6622\n",
            "Epoch 4/100\n",
            "63/63 [==============================] - 4s 59ms/step - loss: 1.8702 - accuracy: 0.7255 - val_loss: 2.4046 - val_accuracy: 0.6824\n",
            "Epoch 5/100\n",
            "63/63 [==============================] - 4s 58ms/step - loss: 1.7513 - accuracy: 0.7362 - val_loss: 2.3157 - val_accuracy: 0.6869\n",
            "Epoch 6/100\n",
            "63/63 [==============================] - 4s 59ms/step - loss: 1.6511 - accuracy: 0.7453 - val_loss: 2.2326 - val_accuracy: 0.6977\n",
            "Epoch 7/100\n",
            "63/63 [==============================] - 4s 58ms/step - loss: 1.5619 - accuracy: 0.7538 - val_loss: 2.1960 - val_accuracy: 0.7081\n",
            "Epoch 8/100\n",
            "63/63 [==============================] - 4s 58ms/step - loss: 1.4836 - accuracy: 0.7626 - val_loss: 2.1578 - val_accuracy: 0.7137\n",
            "Epoch 9/100\n",
            "63/63 [==============================] - 4s 58ms/step - loss: 1.4100 - accuracy: 0.7686 - val_loss: 2.0814 - val_accuracy: 0.7179\n",
            "Epoch 10/100\n",
            "63/63 [==============================] - 4s 58ms/step - loss: 1.3446 - accuracy: 0.7766 - val_loss: 2.1152 - val_accuracy: 0.7212\n",
            "Epoch 11/100\n",
            "63/63 [==============================] - 4s 58ms/step - loss: 1.2834 - accuracy: 0.7816 - val_loss: 2.0713 - val_accuracy: 0.7308\n",
            "Epoch 12/100\n",
            "63/63 [==============================] - 4s 57ms/step - loss: 1.2274 - accuracy: 0.7884 - val_loss: 2.0214 - val_accuracy: 0.7336\n",
            "Epoch 13/100\n",
            "63/63 [==============================] - 4s 58ms/step - loss: 1.1765 - accuracy: 0.7942 - val_loss: 2.0190 - val_accuracy: 0.7362\n",
            "Epoch 14/100\n",
            "63/63 [==============================] - 4s 59ms/step - loss: 1.1265 - accuracy: 0.7993 - val_loss: 2.0040 - val_accuracy: 0.7367\n",
            "Epoch 15/100\n",
            "63/63 [==============================] - 4s 59ms/step - loss: 1.0810 - accuracy: 0.8032 - val_loss: 2.0109 - val_accuracy: 0.7385\n",
            "Epoch 16/100\n",
            "63/63 [==============================] - 4s 59ms/step - loss: 1.0384 - accuracy: 0.8078 - val_loss: 2.0193 - val_accuracy: 0.7351\n",
            "Epoch 17/100\n",
            "63/63 [==============================] - 4s 58ms/step - loss: 0.9954 - accuracy: 0.8128 - val_loss: 2.0150 - val_accuracy: 0.7371\n",
            "Epoch 18/100\n",
            "63/63 [==============================] - 4s 58ms/step - loss: 0.9594 - accuracy: 0.8173 - val_loss: 1.9814 - val_accuracy: 0.7371\n",
            "Epoch 19/100\n",
            "63/63 [==============================] - 4s 58ms/step - loss: 0.9237 - accuracy: 0.8221 - val_loss: 2.0065 - val_accuracy: 0.7357\n",
            "Epoch 20/100\n",
            "63/63 [==============================] - 4s 58ms/step - loss: 0.8911 - accuracy: 0.8245 - val_loss: 2.0107 - val_accuracy: 0.7361\n",
            "Epoch 21/100\n",
            "63/63 [==============================] - 4s 60ms/step - loss: 0.8607 - accuracy: 0.8282 - val_loss: 2.0149 - val_accuracy: 0.7359\n",
            "Epoch 22/100\n",
            "63/63 [==============================] - 4s 60ms/step - loss: 0.8333 - accuracy: 0.8329 - val_loss: 1.9761 - val_accuracy: 0.7398\n",
            "Epoch 23/100\n",
            "63/63 [==============================] - 4s 60ms/step - loss: 0.8061 - accuracy: 0.8354 - val_loss: 1.9765 - val_accuracy: 0.7391\n",
            "Epoch 24/100\n",
            "63/63 [==============================] - 4s 58ms/step - loss: 0.7804 - accuracy: 0.8400 - val_loss: 1.9780 - val_accuracy: 0.7404\n",
            "Epoch 25/100\n",
            "63/63 [==============================] - 4s 58ms/step - loss: 0.7552 - accuracy: 0.8433 - val_loss: 2.0020 - val_accuracy: 0.7357\n",
            "Epoch 26/100\n",
            "63/63 [==============================] - 4s 58ms/step - loss: 0.7336 - accuracy: 0.8464 - val_loss: 1.9946 - val_accuracy: 0.7371\n",
            "Epoch 27/100\n",
            "63/63 [==============================] - 4s 58ms/step - loss: 0.7116 - accuracy: 0.8508 - val_loss: 1.9938 - val_accuracy: 0.7373\n",
            "Epoch 28/100\n",
            "63/63 [==============================] - 4s 58ms/step - loss: 0.6895 - accuracy: 0.8538 - val_loss: 2.0038 - val_accuracy: 0.7354\n",
            "Epoch 29/100\n",
            "63/63 [==============================] - 4s 58ms/step - loss: 0.6708 - accuracy: 0.8560 - val_loss: 2.0198 - val_accuracy: 0.7324\n",
            "Epoch 30/100\n",
            "63/63 [==============================] - 4s 58ms/step - loss: 0.6532 - accuracy: 0.8593 - val_loss: 2.0167 - val_accuracy: 0.7355\n",
            "Epoch 31/100\n",
            "63/63 [==============================] - 4s 59ms/step - loss: 0.6339 - accuracy: 0.8629 - val_loss: 2.0128 - val_accuracy: 0.7355\n",
            "Epoch 32/100\n",
            "63/63 [==============================] - 4s 59ms/step - loss: 0.6155 - accuracy: 0.8668 - val_loss: 2.0374 - val_accuracy: 0.7336\n",
            "Epoch 33/100\n",
            "63/63 [==============================] - 4s 59ms/step - loss: 0.5979 - accuracy: 0.8690 - val_loss: 2.0146 - val_accuracy: 0.7373\n",
            "Epoch 34/100\n",
            "63/63 [==============================] - 4s 58ms/step - loss: 0.5829 - accuracy: 0.8725 - val_loss: 2.0173 - val_accuracy: 0.7347\n",
            "Epoch 35/100\n",
            "63/63 [==============================] - 4s 59ms/step - loss: 0.5654 - accuracy: 0.8745 - val_loss: 2.0287 - val_accuracy: 0.7356\n",
            "Epoch 36/100\n",
            "63/63 [==============================] - 4s 59ms/step - loss: 0.5509 - accuracy: 0.8773 - val_loss: 2.0574 - val_accuracy: 0.7337\n",
            "Epoch 37/100\n",
            "63/63 [==============================] - 4s 58ms/step - loss: 0.5353 - accuracy: 0.8807 - val_loss: 2.0685 - val_accuracy: 0.7346\n",
            "Epoch 38/100\n",
            "63/63 [==============================] - 4s 59ms/step - loss: 0.5236 - accuracy: 0.8827 - val_loss: 2.0382 - val_accuracy: 0.7391\n",
            "Epoch 39/100\n",
            "63/63 [==============================] - 4s 58ms/step - loss: 0.5098 - accuracy: 0.8851 - val_loss: 2.0820 - val_accuracy: 0.7361\n",
            "Epoch 40/100\n",
            "63/63 [==============================] - 4s 59ms/step - loss: 0.4928 - accuracy: 0.8884 - val_loss: 2.0888 - val_accuracy: 0.7367\n",
            "Epoch 41/100\n",
            "63/63 [==============================] - 4s 58ms/step - loss: 0.4807 - accuracy: 0.8897 - val_loss: 2.0905 - val_accuracy: 0.7363\n",
            "Epoch 42/100\n",
            "63/63 [==============================] - 4s 58ms/step - loss: 0.4670 - accuracy: 0.8929 - val_loss: 2.0934 - val_accuracy: 0.7369\n",
            "Epoch 43/100\n",
            "63/63 [==============================] - 4s 59ms/step - loss: 0.4548 - accuracy: 0.8957 - val_loss: 2.1018 - val_accuracy: 0.7371\n",
            "Epoch 44/100\n",
            "63/63 [==============================] - 4s 58ms/step - loss: 0.4414 - accuracy: 0.8980 - val_loss: 2.1031 - val_accuracy: 0.7376\n",
            "Epoch 45/100\n",
            "63/63 [==============================] - 4s 58ms/step - loss: 0.4307 - accuracy: 0.9000 - val_loss: 2.1217 - val_accuracy: 0.7371\n",
            "Epoch 46/100\n",
            "63/63 [==============================] - 4s 58ms/step - loss: 0.4170 - accuracy: 0.9021 - val_loss: 2.1337 - val_accuracy: 0.7366\n",
            "Epoch 47/100\n",
            "63/63 [==============================] - 4s 58ms/step - loss: 0.4109 - accuracy: 0.9037 - val_loss: 2.1202 - val_accuracy: 0.7384\n",
            "Epoch 48/100\n",
            "63/63 [==============================] - 4s 58ms/step - loss: 0.4010 - accuracy: 0.9053 - val_loss: 2.1407 - val_accuracy: 0.7379\n",
            "Epoch 49/100\n",
            "63/63 [==============================] - 4s 59ms/step - loss: 0.3928 - accuracy: 0.9078 - val_loss: 2.1281 - val_accuracy: 0.7384\n",
            "Epoch 50/100\n",
            "63/63 [==============================] - 4s 58ms/step - loss: 0.3827 - accuracy: 0.9086 - val_loss: 2.1414 - val_accuracy: 0.7383\n",
            "Epoch 51/100\n",
            "63/63 [==============================] - 4s 59ms/step - loss: 0.3732 - accuracy: 0.9116 - val_loss: 2.1209 - val_accuracy: 0.7387\n",
            "Epoch 52/100\n",
            "63/63 [==============================] - 4s 59ms/step - loss: 0.3669 - accuracy: 0.9128 - val_loss: 2.1517 - val_accuracy: 0.7386\n",
            "Epoch 53/100\n",
            "63/63 [==============================] - 4s 59ms/step - loss: 0.3592 - accuracy: 0.9140 - val_loss: 2.1649 - val_accuracy: 0.7381\n",
            "Epoch 54/100\n",
            "63/63 [==============================] - 4s 59ms/step - loss: 0.3514 - accuracy: 0.9154 - val_loss: 2.1652 - val_accuracy: 0.7393\n",
            "Epoch 55/100\n",
            "63/63 [==============================] - 4s 58ms/step - loss: 0.3415 - accuracy: 0.9186 - val_loss: 2.1597 - val_accuracy: 0.7384\n",
            "Epoch 56/100\n",
            "63/63 [==============================] - 4s 58ms/step - loss: 0.3343 - accuracy: 0.9182 - val_loss: 2.1667 - val_accuracy: 0.7382\n",
            "Epoch 57/100\n",
            "63/63 [==============================] - 4s 58ms/step - loss: 0.3278 - accuracy: 0.9197 - val_loss: 2.1836 - val_accuracy: 0.7382\n",
            "Epoch 58/100\n",
            "63/63 [==============================] - 4s 58ms/step - loss: 0.3210 - accuracy: 0.9219 - val_loss: 2.1888 - val_accuracy: 0.7389\n",
            "Epoch 59/100\n",
            "63/63 [==============================] - 4s 59ms/step - loss: 0.3142 - accuracy: 0.9223 - val_loss: 2.1785 - val_accuracy: 0.7370\n",
            "Epoch 60/100\n",
            "63/63 [==============================] - 4s 58ms/step - loss: 0.3066 - accuracy: 0.9234 - val_loss: 2.2088 - val_accuracy: 0.7403\n",
            "Epoch 61/100\n",
            "63/63 [==============================] - 4s 59ms/step - loss: 0.2990 - accuracy: 0.9254 - val_loss: 2.2151 - val_accuracy: 0.7383\n",
            "Epoch 62/100\n",
            "63/63 [==============================] - 4s 59ms/step - loss: 0.2948 - accuracy: 0.9261 - val_loss: 2.2100 - val_accuracy: 0.7392\n",
            "Epoch 63/100\n",
            "63/63 [==============================] - 4s 58ms/step - loss: 0.2896 - accuracy: 0.9270 - val_loss: 2.2254 - val_accuracy: 0.7396\n",
            "Epoch 64/100\n",
            "63/63 [==============================] - 4s 59ms/step - loss: 0.2816 - accuracy: 0.9282 - val_loss: 2.2298 - val_accuracy: 0.7395\n",
            "Epoch 65/100\n",
            "63/63 [==============================] - 4s 58ms/step - loss: 0.2769 - accuracy: 0.9293 - val_loss: 2.2361 - val_accuracy: 0.7377\n",
            "Epoch 66/100\n",
            "63/63 [==============================] - 4s 58ms/step - loss: 0.2726 - accuracy: 0.9297 - val_loss: 2.2303 - val_accuracy: 0.7388\n",
            "Epoch 67/100\n",
            "63/63 [==============================] - 4s 58ms/step - loss: 0.2653 - accuracy: 0.9315 - val_loss: 2.2502 - val_accuracy: 0.7372\n",
            "Epoch 68/100\n",
            "63/63 [==============================] - 4s 58ms/step - loss: 0.2612 - accuracy: 0.9327 - val_loss: 2.2351 - val_accuracy: 0.7381\n",
            "Epoch 69/100\n",
            "63/63 [==============================] - 4s 59ms/step - loss: 0.2574 - accuracy: 0.9323 - val_loss: 2.2313 - val_accuracy: 0.7383\n",
            "Epoch 70/100\n",
            "63/63 [==============================] - 4s 59ms/step - loss: 0.2524 - accuracy: 0.9334 - val_loss: 2.2476 - val_accuracy: 0.7398\n",
            "Epoch 71/100\n",
            "63/63 [==============================] - 4s 58ms/step - loss: 0.2473 - accuracy: 0.9348 - val_loss: 2.2604 - val_accuracy: 0.7362\n",
            "Epoch 72/100\n",
            "63/63 [==============================] - 4s 58ms/step - loss: 0.2450 - accuracy: 0.9340 - val_loss: 2.2432 - val_accuracy: 0.7379\n",
            "Epoch 73/100\n",
            "63/63 [==============================] - 4s 59ms/step - loss: 0.2390 - accuracy: 0.9356 - val_loss: 2.2674 - val_accuracy: 0.7382\n",
            "Epoch 74/100\n",
            "63/63 [==============================] - 4s 58ms/step - loss: 0.2338 - accuracy: 0.9375 - val_loss: 2.2717 - val_accuracy: 0.7391\n",
            "Epoch 75/100\n",
            "63/63 [==============================] - 4s 59ms/step - loss: 0.2315 - accuracy: 0.9367 - val_loss: 2.2644 - val_accuracy: 0.7379\n",
            "Epoch 76/100\n",
            "63/63 [==============================] - 4s 59ms/step - loss: 0.2257 - accuracy: 0.9380 - val_loss: 2.2750 - val_accuracy: 0.7369\n",
            "Epoch 77/100\n",
            "63/63 [==============================] - 4s 59ms/step - loss: 0.2237 - accuracy: 0.9383 - val_loss: 2.2832 - val_accuracy: 0.7372\n",
            "Epoch 78/100\n",
            "63/63 [==============================] - 4s 59ms/step - loss: 0.2203 - accuracy: 0.9383 - val_loss: 2.2938 - val_accuracy: 0.7383\n",
            "Epoch 79/100\n",
            "63/63 [==============================] - 4s 58ms/step - loss: 0.2175 - accuracy: 0.9399 - val_loss: 2.2960 - val_accuracy: 0.7388\n",
            "Epoch 80/100\n",
            "63/63 [==============================] - 4s 59ms/step - loss: 0.2131 - accuracy: 0.9408 - val_loss: 2.2985 - val_accuracy: 0.7393\n",
            "Epoch 81/100\n",
            "63/63 [==============================] - 4s 59ms/step - loss: 0.2090 - accuracy: 0.9410 - val_loss: 2.3246 - val_accuracy: 0.7381\n",
            "Epoch 82/100\n",
            "63/63 [==============================] - 4s 59ms/step - loss: 0.2073 - accuracy: 0.9417 - val_loss: 2.3075 - val_accuracy: 0.7368\n",
            "Epoch 83/100\n",
            "63/63 [==============================] - 4s 59ms/step - loss: 0.2041 - accuracy: 0.9420 - val_loss: 2.3198 - val_accuracy: 0.7381\n",
            "Epoch 84/100\n",
            "63/63 [==============================] - 4s 58ms/step - loss: 0.2017 - accuracy: 0.9421 - val_loss: 2.3470 - val_accuracy: 0.7370\n",
            "Epoch 85/100\n",
            "63/63 [==============================] - 4s 58ms/step - loss: 0.1975 - accuracy: 0.9422 - val_loss: 2.3380 - val_accuracy: 0.7385\n",
            "Epoch 86/100\n",
            "63/63 [==============================] - 4s 59ms/step - loss: 0.1971 - accuracy: 0.9425 - val_loss: 2.3211 - val_accuracy: 0.7398\n",
            "Epoch 87/100\n",
            "63/63 [==============================] - 4s 59ms/step - loss: 0.1942 - accuracy: 0.9424 - val_loss: 2.3527 - val_accuracy: 0.7367\n",
            "Epoch 88/100\n",
            "63/63 [==============================] - 4s 59ms/step - loss: 0.1908 - accuracy: 0.9440 - val_loss: 2.3377 - val_accuracy: 0.7364\n",
            "Epoch 89/100\n",
            "63/63 [==============================] - 4s 60ms/step - loss: 0.1886 - accuracy: 0.9437 - val_loss: 2.3450 - val_accuracy: 0.7372\n",
            "Epoch 90/100\n",
            "63/63 [==============================] - 4s 59ms/step - loss: 0.1877 - accuracy: 0.9440 - val_loss: 2.3473 - val_accuracy: 0.7364\n",
            "Epoch 91/100\n",
            "63/63 [==============================] - 4s 59ms/step - loss: 0.1848 - accuracy: 0.9447 - val_loss: 2.3620 - val_accuracy: 0.7363\n",
            "Epoch 92/100\n",
            "63/63 [==============================] - 4s 59ms/step - loss: 0.1819 - accuracy: 0.9453 - val_loss: 2.3787 - val_accuracy: 0.7367\n",
            "Epoch 93/100\n",
            "63/63 [==============================] - 4s 59ms/step - loss: 0.1805 - accuracy: 0.9454 - val_loss: 2.3674 - val_accuracy: 0.7363\n",
            "Epoch 94/100\n",
            "63/63 [==============================] - 4s 59ms/step - loss: 0.1761 - accuracy: 0.9468 - val_loss: 2.3691 - val_accuracy: 0.7355\n",
            "Epoch 95/100\n",
            "63/63 [==============================] - 4s 59ms/step - loss: 0.1750 - accuracy: 0.9466 - val_loss: 2.3651 - val_accuracy: 0.7364\n",
            "Epoch 96/100\n",
            "63/63 [==============================] - 4s 59ms/step - loss: 0.1739 - accuracy: 0.9458 - val_loss: 2.3643 - val_accuracy: 0.7387\n",
            "Epoch 97/100\n",
            "63/63 [==============================] - 4s 59ms/step - loss: 0.1714 - accuracy: 0.9463 - val_loss: 2.3685 - val_accuracy: 0.7369\n",
            "Epoch 98/100\n",
            "63/63 [==============================] - 4s 58ms/step - loss: 0.1700 - accuracy: 0.9473 - val_loss: 2.4051 - val_accuracy: 0.7368\n",
            "Epoch 99/100\n",
            "63/63 [==============================] - 4s 60ms/step - loss: 0.1713 - accuracy: 0.9464 - val_loss: 2.3650 - val_accuracy: 0.7359\n",
            "Epoch 100/100\n",
            "63/63 [==============================] - 4s 59ms/step - loss: 0.1657 - accuracy: 0.9482 - val_loss: 2.3955 - val_accuracy: 0.7371\n"
          ],
          "name": "stdout"
        }
      ]
    },
    {
      "cell_type": "code",
      "metadata": {
        "id": "iEjlXqk2IAd6",
        "colab_type": "code",
        "outputId": "10230dac-2a99-4fab-def8-7b94132fb4d2",
        "colab": {
          "base_uri": "https://localhost:8080/",
          "height": 265
        }
      },
      "source": [
        "#ploting the loss\n",
        "plt.plot(train.history['loss'],label='loss')\n",
        "plt.plot(train.history['val_loss'],label='val_loss')\n",
        "plt.legend()\n",
        "plt.show()"
      ],
      "execution_count": 0,
      "outputs": [
        {
          "output_type": "display_data",
          "data": {
            "image/png": "[encoded data removed]",
            "text/plain": [
              "<Figure size 432x288 with 1 Axes>"
            ]
          },
          "metadata": {
            "tags": [],
            "needs_background": "light"
          }
        }
      ]
    },
    {
      "cell_type": "code",
      "metadata": {
        "id": "9_jT1atsECeA",
        "colab_type": "code",
        "outputId": "b9c78592-d4ab-4cf0-9485-adcc5c07d860",
        "colab": {
          "base_uri": "https://localhost:8080/",
          "height": 265
        }
      },
      "source": [
        "#ploting the acc\n",
        "plt.plot(train.history['accuracy'],label='acc')\n",
        "plt.plot(train.history['val_accuracy'],label='val_acc')\n",
        "plt.legend()\n",
        "plt.show()"
      ],
      "execution_count": 0,
      "outputs": [
        {
          "output_type": "display_data",
          "data": {
            "image/png": "[encoded data removed]",
            "text/plain": [
              "<Figure size 432x288 with 1 Axes>"
            ]
          },
          "metadata": {
            "tags": [],
            "needs_background": "light"
          }
        }
      ]
    },
    {
      "cell_type": "code",
      "metadata": {
        "id": "28vMH5v2Kmik",
        "colab_type": "code",
        "colab": {}
      },
      "source": [
        "model.save('seq2seq.h5')"
      ],
      "execution_count": 0,
      "outputs": []
    },
    {
      "cell_type": "code",
      "metadata": {
        "id": "ml2FGcgVK9RW",
        "colab_type": "code",
        "colab": {}
      },
      "source": [
        "#make prediction\n",
        "encoder_model = Model(encoder_inputs_placeholder,encoder_states)\n",
        "\n",
        "decoder_state_input_h = Input(shape=(LATENT_DIM,))\n",
        "decoder_state_input_c = Input(shape=(LATENT_DIM,))\n",
        "decoder_states_inputs = [decoder_state_input_h,decoder_state_input_c]\n",
        "\n",
        "decoder_inputs_single = Input(shape=(1,))\n",
        "decoder_inputs_single_x = decoder_embedding(decoder_inputs_single)\n",
        "\n",
        "decoder_outputs, h, c = decoder_lstm(\n",
        "    decoder_inputs_single_x,initial_state=decoder_states_inputs\n",
        ")\n",
        "\n",
        "decoder_states = [h,c]\n",
        "\n",
        "decoder_outputs = decoder_dense(decoder_outputs)\n",
        "\n",
        "decoder_model = Model(\n",
        "    [decoder_inputs_single] + decoder_states_inputs,\n",
        "    [decoder_outputs] + decoder_states\n",
        ")\n",
        "\n",
        "idx2word_eng = {v:k for k,v in word2idx_inputs.items()}\n",
        "idx2word_trans = {v:k for k,v in word2idx_outputs.items()}"
      ],
      "execution_count": 0,
      "outputs": []
    },
    {
      "cell_type": "code",
      "metadata": {
        "id": "t-p51EgfOer_",
        "colab_type": "code",
        "colab": {}
      },
      "source": [
        "def decode_sequence(input_seq):\n",
        "  #encode the input as state vec\n",
        "  states_value = encoder_model.predict(input_seq)\n",
        "\n",
        "  #empty target seq of len 1\n",
        "  target_seq = np.zeros((1,1))\n",
        "\n",
        "  target_seq[0,0] = word2idx_outputs['<sos>']\n",
        "\n",
        "  eos = word2idx_outputs['<eos>']\n",
        "\n",
        "  #create the translation\n",
        "  output_sentence = []\n",
        "  for _ in range(max_len_target):\n",
        "    output_tokens ,h, c = decoder_model.predict([target_seq] + states_value)\n",
        "\n",
        "    idx = np.argmax(output_tokens[0,0,:])\n",
        "\n",
        "    if eos == idx:\n",
        "      break\n",
        "\n",
        "    word = ''\n",
        "    if idx>0:\n",
        "      word = idx2word_trans[idx]\n",
        "      output_sentence.append(word)\n",
        "\n",
        "    target_seq[0,0] = idx\n",
        "\n",
        "    states_value = [h,c]\n",
        "\n",
        "  return \" \".join(output_sentence)\n"
      ],
      "execution_count": 0,
      "outputs": []
    },
    {
      "cell_type": "code",
      "metadata": {
        "id": "km7iT_VRQrST",
        "colab_type": "code",
        "outputId": "95102045-e2a0-417f-d6ea-3bc40ee956e7",
        "colab": {
          "base_uri": "https://localhost:8080/",
          "height": 156
        }
      },
      "source": [
        "while True:\n",
        "  i = np.random.choice(len(input_texts))\n",
        "  input_seq = encoder_inputs[i:i+1]\n",
        "  translation = decode_sequence(input_seq)\n",
        "  print('-----')\n",
        "  print('Input:',input_texts[i])\n",
        "  print('Translation:',translation)\n",
        "\n",
        "  ans = input('Continue??[y/n]')\n",
        "  if ans and ans[0].lower().startswith('n'):\n",
        "    break"
      ],
      "execution_count": 0,
      "outputs": [
        {
          "output_type": "stream",
          "text": [
            "-----\n",
            "Input: Feel this.\n",
            "Translation: tienten esto.\n",
            "Continue??[y/n]y\n",
            "-----\n",
            "Input: I love weddings.\n",
            "Translation: yo amo los camellos.\n",
            "Continue??[y/n]n\n"
          ],
          "name": "stdout"
        }
      ]
    },
    {
      "cell_type": "code",
      "metadata": {
        "id": "HSrnYsfBRf7_",
        "colab_type": "code",
        "colab": {}
      },
      "source": [
        ""
      ],
      "execution_count": 0,
      "outputs": []
    }
  ]
}