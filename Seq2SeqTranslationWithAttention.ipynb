{
  "nbformat": 4,
  "nbformat_minor": 0,
  "metadata": {
    "colab": {
      "name": "Seq2SeqTranslationWithAttention",
      "provenance": [],
      "collapsed_sections": [],
      "authorship_tag": "ABX9TyNUVtFBdimU7ybikf7t2rOd",
      "include_colab_link": true
    },
    "kernelspec": {
      "name": "python3",
      "display_name": "Python 3"
    },
    "accelerator": "GPU"
  },
  "cells": [
    {
      "cell_type": "markdown",
      "metadata": {
        "id": "view-in-github",
        "colab_type": "text"
      },
      "source": [
        "<a href=\"https://colab.research.google.com/github/VinishUchiha/Neural_Machine_Translation/blob/master/Seq2SeqTranslationWithAttention.ipynb\" target=\"_parent\"><img src=\"https://colab.research.google.com/assets/colab-badge.svg\" alt=\"Open In Colab\"/></a>"
      ]
    },
    {
      "cell_type": "code",
      "metadata": {
        "id": "cvDreFOrJKdW",
        "colab_type": "code",
        "colab": {}
      },
      "source": [
        "import os\n",
        "import sys\n",
        "\n",
        "from tensorflow.keras.models import Model\n",
        "from tensorflow.keras.layers import Input, LSTM, GRU, Dense, Embedding, Bidirectional,RepeatVector,Concatenate,Activation,Dot,Lambda\n",
        "from tensorflow.keras.preprocessing.text import Tokenizer\n",
        "from tensorflow.keras.preprocessing.sequence import pad_sequences\n",
        "from tensorflow.keras import backend as K\n",
        "import numpy as np\n",
        "import matplotlib.pyplot as plt"
      ],
      "execution_count": 0,
      "outputs": []
    },
    {
      "cell_type": "code",
      "metadata": {
        "id": "I3ghKK-qJupl",
        "colab_type": "code",
        "colab": {}
      },
      "source": [
        "def softmax_over_time(x):\n",
        "  assert(K.ndim(x) > 2)\n",
        "  e = K.exp(x - K.max(x ,axis=1,keepdims=True))\n",
        "  s = K.sum(e, axis=1, keepdims=True)\n",
        "  return e/s"
      ],
      "execution_count": 0,
      "outputs": []
    },
    {
      "cell_type": "code",
      "metadata": {
        "id": "BdhXrfVoJulm",
        "colab_type": "code",
        "colab": {}
      },
      "source": [
        "MAX_SEQUENCE_LENGTH = 100\n",
        "MAX_NUM_WORDS = 20000\n",
        "EMBEDDING_DIM = 100\n",
        "NUM_SAMPLES = 10000\n",
        "BATCH_SIZE = 128\n",
        "EPOCHS = 100\n",
        "LATENT_DIM = 256\n",
        "LATENT_DIM_DECODER = 256"
      ],
      "execution_count": 0,
      "outputs": []
    },
    {
      "cell_type": "code",
      "metadata": {
        "id": "jcZpHxpEJuh5",
        "colab_type": "code",
        "outputId": "831d685c-1f8a-4bf7-b58c-6721e85e2042",
        "colab": {
          "base_uri": "https://localhost:8080/",
          "height": 208
        }
      },
      "source": [
        "!wget https://www.manythings.org/anki/spa-eng.zip"
      ],
      "execution_count": 4,
      "outputs": [
        {
          "output_type": "stream",
          "text": [
            "--2020-05-23 15:04:22--  https://www.manythings.org/anki/spa-eng.zip\n",
            "Resolving www.manythings.org (www.manythings.org)... 104.24.109.196, 104.24.108.196, 2606:4700:3033::6818:6dc4, ...\n",
            "Connecting to www.manythings.org (www.manythings.org)|104.24.109.196|:443... connected.\n",
            "HTTP request sent, awaiting response... 200 OK\n",
            "Length: 4781548 (4.6M) [application/zip]\n",
            "Saving to: ‘spa-eng.zip’\n",
            "\n",
            "spa-eng.zip         100%[===================>]   4.56M  1.02MB/s    in 5.1s    \n",
            "\n",
            "2020-05-23 15:04:27 (914 KB/s) - ‘spa-eng.zip’ saved [4781548/4781548]\n",
            "\n"
          ],
          "name": "stdout"
        }
      ]
    },
    {
      "cell_type": "code",
      "metadata": {
        "id": "TVCjGo_wJuZr",
        "colab_type": "code",
        "outputId": "2fe89ce4-cfa2-48fe-9fa0-72ff505db49e",
        "colab": {
          "base_uri": "https://localhost:8080/",
          "height": 69
        }
      },
      "source": [
        "!unzip spa-eng.zip"
      ],
      "execution_count": 5,
      "outputs": [
        {
          "output_type": "stream",
          "text": [
            "Archive:  spa-eng.zip\n",
            "  inflating: _about.txt              \n",
            "  inflating: spa.txt                 \n"
          ],
          "name": "stdout"
        }
      ]
    },
    {
      "cell_type": "code",
      "metadata": {
        "id": "5cXRZ40mLGW4",
        "colab_type": "code",
        "outputId": "061796bc-a7a4-45d1-8986-a0cbc44c92a2",
        "colab": {
          "base_uri": "https://localhost:8080/",
          "height": 34
        }
      },
      "source": [
        "#STORE THE DATA\n",
        "input_texts = []\n",
        "target_texts = []\n",
        "target_texts_inputs = []\n",
        "\n",
        "t = 0\n",
        "for line in open('/content/spa.txt'):\n",
        "  t += 1\n",
        "  if t > NUM_SAMPLES:\n",
        "    break\n",
        "\n",
        "  #input & target are seperated by tab\n",
        "  if '\\t' not in line:\n",
        "    continue\n",
        "\n",
        "  input_text, translation, _ = line.split('\\t')\n",
        "\n",
        "  target_text = translation + ' <eos>'\n",
        "  target_text_input = '<sos> ' + translation\n",
        "\n",
        "  input_texts.append(input_text)\n",
        "  target_texts.append(target_text)\n",
        "  target_texts_inputs.append(target_text_input)\n",
        "print('num samples:',len(input_texts))"
      ],
      "execution_count": 6,
      "outputs": [
        {
          "output_type": "stream",
          "text": [
            "num samples: 10000\n"
          ],
          "name": "stdout"
        }
      ]
    },
    {
      "cell_type": "code",
      "metadata": {
        "id": "M1KD5WwXLGRh",
        "colab_type": "code",
        "outputId": "c00935bc-d8d2-4e76-f330-15db90a9f6ca",
        "colab": {
          "base_uri": "https://localhost:8080/",
          "height": 121
        }
      },
      "source": [
        "#tokenize the inputs\n",
        "tokenizer_inputs = Tokenizer(num_words=MAX_NUM_WORDS)\n",
        "tokenizer_inputs.fit_on_texts(input_texts)\n",
        "input_sequences = tokenizer_inputs.texts_to_sequences(input_texts)\n",
        "\n",
        "word2idx_inputs = tokenizer_inputs.word_index\n",
        "print(f'Found {len(word2idx_inputs)} unique input tokens')\n",
        "\n",
        "max_len_input = max(len(s) for s in input_sequences)\n",
        "\n",
        "tokenizer_outputs = Tokenizer(num_words=MAX_NUM_WORDS,filters='')\n",
        "tokenizer_outputs.fit_on_texts(target_texts + target_texts_inputs)\n",
        "target_sequences = tokenizer_outputs.texts_to_sequences(target_texts)\n",
        "target_sequences_inputs = tokenizer_outputs.texts_to_sequences(target_texts_inputs)\n",
        "\n",
        "word2idx_outputs = tokenizer_outputs.word_index\n",
        "print(f'Found {len(word2idx_outputs)} unique output tokens')\n",
        "\n",
        "num_words_output = len(word2idx_outputs) + 1\n",
        "\n",
        "max_len_target = max(len(s) for s in target_sequences)\n",
        "\n",
        "#pad the sequences\n",
        "encoder_inputs = pad_sequences(input_sequences,maxlen=max_len_input)\n",
        "print('encoder data shape:',encoder_inputs.shape)\n",
        "print('encoder data[0]:',encoder_inputs[0])\n",
        "\n",
        "decoder_inputs = pad_sequences(target_sequences_inputs,maxlen=max_len_target,padding='post')\n",
        "print('decoder data shape:',decoder_inputs.shape)\n",
        "print('decoder data[0]:',decoder_inputs[0])\n",
        "\n",
        "decoder_targets = pad_sequences(target_sequences,maxlen=max_len_target,padding='post')"
      ],
      "execution_count": 7,
      "outputs": [
        {
          "output_type": "stream",
          "text": [
            "Found 2350 unique input tokens\n",
            "Found 6323 unique output tokens\n",
            "encoder data shape: (10000, 5)\n",
            "encoder data[0]: [ 0  0  0  0 13]\n",
            "decoder data shape: (10000, 9)\n",
            "decoder data[0]: [   2 1466    0    0    0    0    0    0    0]\n"
          ],
          "name": "stdout"
        }
      ]
    },
    {
      "cell_type": "code",
      "metadata": {
        "id": "oIIWRvuDLGO0",
        "colab_type": "code",
        "outputId": "908dbebc-65b6-4207-c39f-fba82f593c7d",
        "colab": {
          "base_uri": "https://localhost:8080/",
          "height": 364
        }
      },
      "source": [
        "!wget http://nlp.stanford.edu/data/glove.6B.zip"
      ],
      "execution_count": 8,
      "outputs": [
        {
          "output_type": "stream",
          "text": [
            "--2020-05-23 15:04:41--  http://nlp.stanford.edu/data/glove.6B.zip\n",
            "Resolving nlp.stanford.edu (nlp.stanford.edu)... 171.64.67.140\n",
            "Connecting to nlp.stanford.edu (nlp.stanford.edu)|171.64.67.140|:80... connected.\n",
            "HTTP request sent, awaiting response... 302 Found\n",
            "Location: https://nlp.stanford.edu/data/glove.6B.zip [following]\n",
            "--2020-05-23 15:04:41--  https://nlp.stanford.edu/data/glove.6B.zip\n",
            "Connecting to nlp.stanford.edu (nlp.stanford.edu)|171.64.67.140|:443... connected.\n",
            "HTTP request sent, awaiting response... 301 Moved Permanently\n",
            "Location: http://downloads.cs.stanford.edu/nlp/data/glove.6B.zip [following]\n",
            "--2020-05-23 15:04:42--  http://downloads.cs.stanford.edu/nlp/data/glove.6B.zip\n",
            "Resolving downloads.cs.stanford.edu (downloads.cs.stanford.edu)... 171.64.64.22\n",
            "Connecting to downloads.cs.stanford.edu (downloads.cs.stanford.edu)|171.64.64.22|:80... connected.\n",
            "HTTP request sent, awaiting response... 200 OK\n",
            "Length: 862182613 (822M) [application/zip]\n",
            "Saving to: ‘glove.6B.zip’\n",
            "\n",
            "glove.6B.zip        100%[===================>] 822.24M  1.99MB/s    in 6m 30s  \n",
            "\n",
            "2020-05-23 15:11:12 (2.11 MB/s) - ‘glove.6B.zip’ saved [862182613/862182613]\n",
            "\n"
          ],
          "name": "stdout"
        }
      ]
    },
    {
      "cell_type": "code",
      "metadata": {
        "id": "zJLbQzI6RU0V",
        "colab_type": "code",
        "outputId": "3913815b-fbf6-4beb-b4bd-a1333ab5736d",
        "colab": {
          "base_uri": "https://localhost:8080/",
          "height": 104
        }
      },
      "source": [
        "!unzip glove.6B.zip "
      ],
      "execution_count": 9,
      "outputs": [
        {
          "output_type": "stream",
          "text": [
            "Archive:  glove.6B.zip\n",
            "  inflating: glove.6B.50d.txt        \n",
            "  inflating: glove.6B.100d.txt       \n",
            "  inflating: glove.6B.200d.txt       \n",
            "  inflating: glove.6B.300d.txt       \n"
          ],
          "name": "stdout"
        }
      ]
    },
    {
      "cell_type": "code",
      "metadata": {
        "id": "lk3wzTUBLGLU",
        "colab_type": "code",
        "outputId": "a21f93b0-301b-4e93-b8e2-ca44f01be5fd",
        "colab": {
          "base_uri": "https://localhost:8080/",
          "height": 34
        }
      },
      "source": [
        "#load pre-trained vectors\n",
        "word2vec = {}\n",
        "with open(os.path.join(f'/content/glove.6B.{EMBEDDING_DIM}d.txt')) as f:\n",
        "  for line in f:\n",
        "    values = line.split()\n",
        "    word = values[0]\n",
        "    vec = np.asarray(values[1:],dtype='float32')\n",
        "    word2vec[word] = vec\n",
        "print('Found {} word vectors'.format(len(word2vec)))"
      ],
      "execution_count": 10,
      "outputs": [
        {
          "output_type": "stream",
          "text": [
            "Found 400000 word vectors\n"
          ],
          "name": "stdout"
        }
      ]
    },
    {
      "cell_type": "code",
      "metadata": {
        "id": "io0tOYzELGIM",
        "colab_type": "code",
        "colab": {}
      },
      "source": [
        "#prepare embedding matrix\n",
        "num_words = min(MAX_NUM_WORDS,len(word2idx_inputs)+1)\n",
        "embedding_matrix = np.zeros((num_words,EMBEDDING_DIM))\n",
        "for word,i in word2idx_inputs.items():\n",
        "  if i < MAX_NUM_WORDS:\n",
        "    embedding_vector = word2vec.get(word)\n",
        "    if embedding_vector is not None:\n",
        "      embedding_matrix[i] = embedding_vector"
      ],
      "execution_count": 0,
      "outputs": []
    },
    {
      "cell_type": "code",
      "metadata": {
        "id": "1TtP1mvoJuVB",
        "colab_type": "code",
        "colab": {}
      },
      "source": [
        "#create embedding layer\n",
        "embedding_layer = Embedding(num_words,EMBEDDING_DIM,\n",
        "                            weights=[embedding_matrix],input_length=max_len_input)"
      ],
      "execution_count": 0,
      "outputs": []
    },
    {
      "cell_type": "code",
      "metadata": {
        "id": "H2y0sIc8JuRG",
        "colab_type": "code",
        "colab": {}
      },
      "source": [
        "decoder_targets_one_hot = np.zeros((\n",
        "    len(input_texts),max_len_target,num_words_output\n",
        "),dtype='float32')\n",
        "\n",
        "#assign the values\n",
        "for i, d in enumerate(decoder_targets):\n",
        "  for t, word in enumerate(d):\n",
        "    decoder_targets_one_hot[i,t,word] = 1"
      ],
      "execution_count": 0,
      "outputs": []
    },
    {
      "cell_type": "code",
      "metadata": {
        "id": "43jDp2jVJuLp",
        "colab_type": "code",
        "colab": {}
      },
      "source": [
        "#build the model\n",
        "encoder_inputs_placeholder = Input(shape=(max_len_input,))\n",
        "x = embedding_layer(encoder_inputs_placeholder)\n",
        "encoder = Bidirectional(LSTM(LATENT_DIM,return_sequences=True,dropout=0.5))\n",
        "encoder_outputs = encoder(x)\n",
        "\n",
        "#setup decoder using [h,c] as initial state\n",
        "decoder_inputs_placeholder = Input(shape=(max_len_target,))\n",
        "\n",
        "decoder_embedding = Embedding(num_words_output,LATENT_DIM)\n",
        "decoder_inputs_x = decoder_embedding(decoder_inputs_placeholder)\n",
        "\n",
        "#Attention\n",
        "attn_repeat_layer = RepeatVector(max_len_input)\n",
        "attn_concat_layer = Concatenate(axis=-1)\n",
        "attn_dense1 = Dense(10,activation='tanh')\n",
        "attn_dense2 = Dense(1,activation=softmax_over_time)\n",
        "attn_dot = Dot(axes=1)\n",
        "\n",
        "def one_step_attention(h, st_1):\n",
        "  st_1 = attn_repeat_layer(st_1)\n",
        "  x = attn_concat_layer([h,st_1])\n",
        "  x = attn_dense1(x)\n",
        "  alphas = attn_dense2(x)\n",
        "  context = attn_dot([alphas, h])\n",
        "  return context\n",
        "\n",
        "decoder_lstm = LSTM(LATENT_DIM_DECODER,return_state=True)\n",
        "decoder_dense = Dense(num_words_output,activation='softmax')\n",
        "\n",
        "initial_s = Input(shape=(LATENT_DIM_DECODER,),name='s0')\n",
        "initial_c = Input(shape=(LATENT_DIM_DECODER,),name='c0')\n",
        "context_last_word_concat_layer = Concatenate(axis=2)\n",
        "\n",
        "s = initial_s\n",
        "c = initial_c\n",
        "\n",
        "outputs = []\n",
        "for t in range(max_len_target):\n",
        "  context = one_step_attention(encoder_outputs,s)\n",
        "  selector = Lambda(lambda x: x[:, t:t+1])\n",
        "  xt = selector(decoder_inputs_x)\n",
        "\n",
        "  decoder_lstm_input = context_last_word_concat_layer([context, xt])\n",
        "\n",
        "  o,s,c = decoder_lstm(decoder_lstm_input,initial_state=[s,c])\n",
        "\n",
        "  decoder_outputs = decoder_dense(o)\n",
        "  outputs.append(decoder_outputs)\n",
        "\n",
        "def stack_and_transpose(x):\n",
        "\n",
        "  x = K.stack(x)\n",
        "  x = K.permute_dimensions(x,pattern=(1,0,2))\n",
        "  return x\n",
        "\n",
        "stacker = Lambda(stack_and_transpose)\n",
        "outputs = stacker(outputs)\n",
        "\n",
        "model = Model(\n",
        "    inputs=[\n",
        "            encoder_inputs_placeholder,\n",
        "            decoder_inputs_placeholder,\n",
        "            initial_s,\n",
        "            initial_c,\n",
        "    ],outputs=outputs\n",
        ")"
      ],
      "execution_count": 0,
      "outputs": []
    },
    {
      "cell_type": "code",
      "metadata": {
        "id": "SgDKl7KxJuIR",
        "colab_type": "code",
        "colab": {}
      },
      "source": [
        "#compile the model\n",
        "model.compile(optimizer='rmsprop',loss='categorical_crossentropy',metrics=['accuracy'])"
      ],
      "execution_count": 0,
      "outputs": []
    },
    {
      "cell_type": "code",
      "metadata": {
        "id": "kc3gQIpLKsCO",
        "colab_type": "code",
        "colab": {
          "base_uri": "https://localhost:8080/",
          "height": 1000
        },
        "outputId": "aa293d29-db25-4d02-eaaa-bc0f55ec164e"
      },
      "source": [
        "#training\n",
        "z = np.zeros((NUM_SAMPLES,LATENT_DIM_DECODER)) #initial s,c\n",
        "train = model.fit(\n",
        "    [encoder_inputs,decoder_inputs,z,z],decoder_targets_one_hot,\n",
        "    batch_size = BATCH_SIZE,\n",
        "    epochs=EPOCHS,\n",
        "    validation_split=0.2\n",
        ")"
      ],
      "execution_count": 23,
      "outputs": [
        {
          "output_type": "stream",
          "text": [
            "Epoch 1/100\n",
            "63/63 [==============================] - 10s 154ms/step - loss: 3.0656 - accuracy: 0.5910 - val_loss: 3.0579 - val_accuracy: 0.5485\n",
            "Epoch 2/100\n",
            "63/63 [==============================] - 6s 95ms/step - loss: 2.4133 - accuracy: 0.6351 - val_loss: 2.9016 - val_accuracy: 0.5916\n",
            "Epoch 3/100\n",
            "63/63 [==============================] - 6s 95ms/step - loss: 2.3085 - accuracy: 0.6453 - val_loss: 2.8832 - val_accuracy: 0.5976\n",
            "Epoch 4/100\n",
            "63/63 [==============================] - 6s 95ms/step - loss: 2.2173 - accuracy: 0.6540 - val_loss: 2.8090 - val_accuracy: 0.6045\n",
            "Epoch 5/100\n",
            "63/63 [==============================] - 6s 95ms/step - loss: 2.1209 - accuracy: 0.6630 - val_loss: 2.7542 - val_accuracy: 0.6068\n",
            "Epoch 6/100\n",
            "63/63 [==============================] - 6s 95ms/step - loss: 2.0380 - accuracy: 0.6723 - val_loss: 2.8004 - val_accuracy: 0.5959\n",
            "Epoch 7/100\n",
            "63/63 [==============================] - 6s 95ms/step - loss: 1.9657 - accuracy: 0.6791 - val_loss: 2.6295 - val_accuracy: 0.6253\n",
            "Epoch 8/100\n",
            "63/63 [==============================] - 6s 94ms/step - loss: 1.9007 - accuracy: 0.6867 - val_loss: 2.6958 - val_accuracy: 0.6088\n",
            "Epoch 9/100\n",
            "63/63 [==============================] - 6s 95ms/step - loss: 1.8395 - accuracy: 0.6937 - val_loss: 2.5974 - val_accuracy: 0.6348\n",
            "Epoch 10/100\n",
            "63/63 [==============================] - 6s 95ms/step - loss: 1.7776 - accuracy: 0.7003 - val_loss: 2.5282 - val_accuracy: 0.6431\n",
            "Epoch 11/100\n",
            "63/63 [==============================] - 6s 95ms/step - loss: 1.7203 - accuracy: 0.7055 - val_loss: 2.5158 - val_accuracy: 0.6488\n",
            "Epoch 12/100\n",
            "63/63 [==============================] - 6s 95ms/step - loss: 1.6671 - accuracy: 0.7128 - val_loss: 2.5218 - val_accuracy: 0.6476\n",
            "Epoch 13/100\n",
            "63/63 [==============================] - 6s 95ms/step - loss: 1.6189 - accuracy: 0.7168 - val_loss: 2.4885 - val_accuracy: 0.6513\n",
            "Epoch 14/100\n",
            "63/63 [==============================] - 6s 95ms/step - loss: 1.5738 - accuracy: 0.7204 - val_loss: 2.4397 - val_accuracy: 0.6618\n",
            "Epoch 15/100\n",
            "63/63 [==============================] - 6s 95ms/step - loss: 1.5295 - accuracy: 0.7250 - val_loss: 2.4301 - val_accuracy: 0.6640\n",
            "Epoch 16/100\n",
            "63/63 [==============================] - 6s 94ms/step - loss: 1.4914 - accuracy: 0.7275 - val_loss: 2.4019 - val_accuracy: 0.6665\n",
            "Epoch 17/100\n",
            "63/63 [==============================] - 6s 95ms/step - loss: 1.4529 - accuracy: 0.7329 - val_loss: 2.4250 - val_accuracy: 0.6698\n",
            "Epoch 18/100\n",
            "63/63 [==============================] - 6s 96ms/step - loss: 1.4109 - accuracy: 0.7359 - val_loss: 2.4072 - val_accuracy: 0.6728\n",
            "Epoch 19/100\n",
            "63/63 [==============================] - 6s 96ms/step - loss: 1.3747 - accuracy: 0.7388 - val_loss: 2.3920 - val_accuracy: 0.6661\n",
            "Epoch 20/100\n",
            "63/63 [==============================] - 6s 95ms/step - loss: 1.3402 - accuracy: 0.7433 - val_loss: 2.3801 - val_accuracy: 0.6764\n",
            "Epoch 21/100\n",
            "63/63 [==============================] - 6s 95ms/step - loss: 1.3037 - accuracy: 0.7461 - val_loss: 2.3552 - val_accuracy: 0.6736\n",
            "Epoch 22/100\n",
            "63/63 [==============================] - 6s 94ms/step - loss: 1.2674 - accuracy: 0.7504 - val_loss: 2.4144 - val_accuracy: 0.6747\n",
            "Epoch 23/100\n",
            "63/63 [==============================] - 6s 94ms/step - loss: 1.2367 - accuracy: 0.7533 - val_loss: 2.3436 - val_accuracy: 0.6787\n",
            "Epoch 24/100\n",
            "63/63 [==============================] - 6s 94ms/step - loss: 1.2087 - accuracy: 0.7559 - val_loss: 2.3613 - val_accuracy: 0.6783\n",
            "Epoch 25/100\n",
            "63/63 [==============================] - 6s 94ms/step - loss: 1.1794 - accuracy: 0.7605 - val_loss: 2.3353 - val_accuracy: 0.6773\n",
            "Epoch 26/100\n",
            "63/63 [==============================] - 6s 94ms/step - loss: 1.1511 - accuracy: 0.7636 - val_loss: 2.3182 - val_accuracy: 0.6814\n",
            "Epoch 27/100\n",
            "63/63 [==============================] - 6s 94ms/step - loss: 1.1283 - accuracy: 0.7667 - val_loss: 2.3251 - val_accuracy: 0.6829\n",
            "Epoch 28/100\n",
            "63/63 [==============================] - 6s 95ms/step - loss: 1.0985 - accuracy: 0.7693 - val_loss: 2.3093 - val_accuracy: 0.6803\n",
            "Epoch 29/100\n",
            "63/63 [==============================] - 6s 94ms/step - loss: 1.0751 - accuracy: 0.7721 - val_loss: 2.3183 - val_accuracy: 0.6826\n",
            "Epoch 30/100\n",
            "63/63 [==============================] - 6s 95ms/step - loss: 1.0484 - accuracy: 0.7754 - val_loss: 2.3221 - val_accuracy: 0.6822\n",
            "Epoch 31/100\n",
            "63/63 [==============================] - 6s 95ms/step - loss: 1.0248 - accuracy: 0.7781 - val_loss: 2.3133 - val_accuracy: 0.6814\n",
            "Epoch 32/100\n",
            "63/63 [==============================] - 6s 94ms/step - loss: 0.9976 - accuracy: 0.7815 - val_loss: 2.3157 - val_accuracy: 0.6840\n",
            "Epoch 33/100\n",
            "63/63 [==============================] - 6s 94ms/step - loss: 0.9748 - accuracy: 0.7840 - val_loss: 2.3164 - val_accuracy: 0.6811\n",
            "Epoch 34/100\n",
            "63/63 [==============================] - 6s 95ms/step - loss: 0.9507 - accuracy: 0.7876 - val_loss: 2.3113 - val_accuracy: 0.6836\n",
            "Epoch 35/100\n",
            "63/63 [==============================] - 6s 95ms/step - loss: 0.9316 - accuracy: 0.7902 - val_loss: 2.3184 - val_accuracy: 0.6810\n",
            "Epoch 36/100\n",
            "63/63 [==============================] - 6s 95ms/step - loss: 0.9085 - accuracy: 0.7932 - val_loss: 2.3284 - val_accuracy: 0.6840\n",
            "Epoch 37/100\n",
            "63/63 [==============================] - 6s 94ms/step - loss: 0.8935 - accuracy: 0.7942 - val_loss: 2.3168 - val_accuracy: 0.6849\n",
            "Epoch 38/100\n",
            "63/63 [==============================] - 6s 94ms/step - loss: 0.8730 - accuracy: 0.7979 - val_loss: 2.3221 - val_accuracy: 0.6815\n",
            "Epoch 39/100\n",
            "63/63 [==============================] - 6s 93ms/step - loss: 0.8512 - accuracy: 0.8014 - val_loss: 2.3231 - val_accuracy: 0.6844\n",
            "Epoch 40/100\n",
            "63/63 [==============================] - 6s 93ms/step - loss: 0.8316 - accuracy: 0.8040 - val_loss: 2.3051 - val_accuracy: 0.6806\n",
            "Epoch 41/100\n",
            "63/63 [==============================] - 6s 94ms/step - loss: 0.8150 - accuracy: 0.8069 - val_loss: 2.3335 - val_accuracy: 0.6831\n",
            "Epoch 42/100\n",
            "63/63 [==============================] - 6s 94ms/step - loss: 0.7995 - accuracy: 0.8094 - val_loss: 2.3178 - val_accuracy: 0.6853\n",
            "Epoch 43/100\n",
            "63/63 [==============================] - 6s 93ms/step - loss: 0.7846 - accuracy: 0.8111 - val_loss: 2.3183 - val_accuracy: 0.6829\n",
            "Epoch 44/100\n",
            "63/63 [==============================] - 6s 94ms/step - loss: 0.7668 - accuracy: 0.8142 - val_loss: 2.3100 - val_accuracy: 0.6853\n",
            "Epoch 45/100\n",
            "63/63 [==============================] - 6s 94ms/step - loss: 0.7523 - accuracy: 0.8173 - val_loss: 2.3395 - val_accuracy: 0.6809\n",
            "Epoch 46/100\n",
            "63/63 [==============================] - 6s 94ms/step - loss: 0.7366 - accuracy: 0.8197 - val_loss: 2.3228 - val_accuracy: 0.6804\n",
            "Epoch 47/100\n",
            "63/63 [==============================] - 6s 93ms/step - loss: 0.7255 - accuracy: 0.8213 - val_loss: 2.3186 - val_accuracy: 0.6823\n",
            "Epoch 48/100\n",
            "63/63 [==============================] - 6s 94ms/step - loss: 0.7078 - accuracy: 0.8245 - val_loss: 2.3133 - val_accuracy: 0.6851\n",
            "Epoch 49/100\n",
            "63/63 [==============================] - 6s 93ms/step - loss: 0.6986 - accuracy: 0.8250 - val_loss: 2.3376 - val_accuracy: 0.6899\n",
            "Epoch 50/100\n",
            "63/63 [==============================] - 6s 94ms/step - loss: 0.6829 - accuracy: 0.8294 - val_loss: 2.3319 - val_accuracy: 0.6837\n",
            "Epoch 51/100\n",
            "63/63 [==============================] - 6s 93ms/step - loss: 0.6716 - accuracy: 0.8289 - val_loss: 2.3340 - val_accuracy: 0.6843\n",
            "Epoch 52/100\n",
            "63/63 [==============================] - 6s 94ms/step - loss: 0.6597 - accuracy: 0.8328 - val_loss: 2.3560 - val_accuracy: 0.6849\n",
            "Epoch 53/100\n",
            "63/63 [==============================] - 6s 93ms/step - loss: 0.6429 - accuracy: 0.8346 - val_loss: 2.3332 - val_accuracy: 0.6820\n",
            "Epoch 54/100\n",
            "63/63 [==============================] - 6s 93ms/step - loss: 0.6350 - accuracy: 0.8362 - val_loss: 2.3362 - val_accuracy: 0.6852\n",
            "Epoch 55/100\n",
            "63/63 [==============================] - 6s 93ms/step - loss: 0.6206 - accuracy: 0.8396 - val_loss: 2.3534 - val_accuracy: 0.6837\n",
            "Epoch 56/100\n",
            "63/63 [==============================] - 6s 94ms/step - loss: 0.6113 - accuracy: 0.8418 - val_loss: 2.3363 - val_accuracy: 0.6864\n",
            "Epoch 57/100\n",
            "63/63 [==============================] - 6s 94ms/step - loss: 0.5991 - accuracy: 0.8444 - val_loss: 2.3391 - val_accuracy: 0.6852\n",
            "Epoch 58/100\n",
            "63/63 [==============================] - 6s 93ms/step - loss: 0.5906 - accuracy: 0.8458 - val_loss: 2.3545 - val_accuracy: 0.6838\n",
            "Epoch 59/100\n",
            "63/63 [==============================] - 6s 94ms/step - loss: 0.5765 - accuracy: 0.8474 - val_loss: 2.3451 - val_accuracy: 0.6839\n",
            "Epoch 60/100\n",
            "63/63 [==============================] - 6s 95ms/step - loss: 0.5668 - accuracy: 0.8501 - val_loss: 2.3579 - val_accuracy: 0.6859\n",
            "Epoch 61/100\n",
            "63/63 [==============================] - 6s 94ms/step - loss: 0.5577 - accuracy: 0.8518 - val_loss: 2.3512 - val_accuracy: 0.6831\n",
            "Epoch 62/100\n",
            "63/63 [==============================] - 6s 93ms/step - loss: 0.5462 - accuracy: 0.8539 - val_loss: 2.3715 - val_accuracy: 0.6874\n",
            "Epoch 63/100\n",
            "63/63 [==============================] - 6s 93ms/step - loss: 0.5379 - accuracy: 0.8564 - val_loss: 2.3643 - val_accuracy: 0.6873\n",
            "Epoch 64/100\n",
            "63/63 [==============================] - 6s 93ms/step - loss: 0.5317 - accuracy: 0.8576 - val_loss: 2.3660 - val_accuracy: 0.6820\n",
            "Epoch 65/100\n",
            "63/63 [==============================] - 6s 93ms/step - loss: 0.5207 - accuracy: 0.8584 - val_loss: 2.3777 - val_accuracy: 0.6897\n",
            "Epoch 66/100\n",
            "63/63 [==============================] - 6s 93ms/step - loss: 0.5106 - accuracy: 0.8619 - val_loss: 2.3782 - val_accuracy: 0.6847\n",
            "Epoch 67/100\n",
            "63/63 [==============================] - 6s 93ms/step - loss: 0.5027 - accuracy: 0.8621 - val_loss: 2.3573 - val_accuracy: 0.6878\n",
            "Epoch 68/100\n",
            "63/63 [==============================] - 6s 94ms/step - loss: 0.4945 - accuracy: 0.8652 - val_loss: 2.3705 - val_accuracy: 0.6834\n",
            "Epoch 69/100\n",
            "63/63 [==============================] - 6s 92ms/step - loss: 0.4892 - accuracy: 0.8662 - val_loss: 2.3930 - val_accuracy: 0.6851\n",
            "Epoch 70/100\n",
            "63/63 [==============================] - 6s 95ms/step - loss: 0.4809 - accuracy: 0.8669 - val_loss: 2.3827 - val_accuracy: 0.6883\n",
            "Epoch 71/100\n",
            "63/63 [==============================] - 6s 94ms/step - loss: 0.4774 - accuracy: 0.8671 - val_loss: 2.3813 - val_accuracy: 0.6848\n",
            "Epoch 72/100\n",
            "63/63 [==============================] - 6s 93ms/step - loss: 0.4661 - accuracy: 0.8708 - val_loss: 2.3892 - val_accuracy: 0.6883\n",
            "Epoch 73/100\n",
            "63/63 [==============================] - 6s 95ms/step - loss: 0.4568 - accuracy: 0.8720 - val_loss: 2.3734 - val_accuracy: 0.6853\n",
            "Epoch 74/100\n",
            "63/63 [==============================] - 6s 94ms/step - loss: 0.4521 - accuracy: 0.8736 - val_loss: 2.4004 - val_accuracy: 0.6883\n",
            "Epoch 75/100\n",
            "63/63 [==============================] - 6s 93ms/step - loss: 0.4473 - accuracy: 0.8736 - val_loss: 2.3928 - val_accuracy: 0.6847\n",
            "Epoch 76/100\n",
            "63/63 [==============================] - 6s 94ms/step - loss: 0.4431 - accuracy: 0.8748 - val_loss: 2.3977 - val_accuracy: 0.6830\n",
            "Epoch 77/100\n",
            "63/63 [==============================] - 6s 93ms/step - loss: 0.4362 - accuracy: 0.8764 - val_loss: 2.3887 - val_accuracy: 0.6867\n",
            "Epoch 78/100\n",
            "63/63 [==============================] - 6s 94ms/step - loss: 0.4268 - accuracy: 0.8791 - val_loss: 2.4220 - val_accuracy: 0.6870\n",
            "Epoch 79/100\n",
            "63/63 [==============================] - 6s 94ms/step - loss: 0.4240 - accuracy: 0.8777 - val_loss: 2.4051 - val_accuracy: 0.6878\n",
            "Epoch 80/100\n",
            "63/63 [==============================] - 6s 93ms/step - loss: 0.4147 - accuracy: 0.8812 - val_loss: 2.4123 - val_accuracy: 0.6811\n",
            "Epoch 81/100\n",
            "63/63 [==============================] - 6s 93ms/step - loss: 0.4137 - accuracy: 0.8807 - val_loss: 2.4081 - val_accuracy: 0.6851\n",
            "Epoch 82/100\n",
            "63/63 [==============================] - 6s 95ms/step - loss: 0.4047 - accuracy: 0.8818 - val_loss: 2.4048 - val_accuracy: 0.6851\n",
            "Epoch 83/100\n",
            "63/63 [==============================] - 6s 94ms/step - loss: 0.4000 - accuracy: 0.8828 - val_loss: 2.4294 - val_accuracy: 0.6896\n",
            "Epoch 84/100\n",
            "63/63 [==============================] - 6s 94ms/step - loss: 0.3960 - accuracy: 0.8834 - val_loss: 2.4108 - val_accuracy: 0.6796\n",
            "Epoch 85/100\n",
            "63/63 [==============================] - 6s 94ms/step - loss: 0.3899 - accuracy: 0.8864 - val_loss: 2.4137 - val_accuracy: 0.6862\n",
            "Epoch 86/100\n",
            "63/63 [==============================] - 6s 94ms/step - loss: 0.3860 - accuracy: 0.8848 - val_loss: 2.4198 - val_accuracy: 0.6838\n",
            "Epoch 87/100\n",
            "63/63 [==============================] - 6s 94ms/step - loss: 0.3784 - accuracy: 0.8861 - val_loss: 2.4235 - val_accuracy: 0.6849\n",
            "Epoch 88/100\n",
            "63/63 [==============================] - 6s 94ms/step - loss: 0.3759 - accuracy: 0.8878 - val_loss: 2.4313 - val_accuracy: 0.6857\n",
            "Epoch 89/100\n",
            "63/63 [==============================] - 6s 94ms/step - loss: 0.3717 - accuracy: 0.8880 - val_loss: 2.4418 - val_accuracy: 0.6882\n",
            "Epoch 90/100\n",
            "63/63 [==============================] - 6s 94ms/step - loss: 0.3650 - accuracy: 0.8888 - val_loss: 2.4361 - val_accuracy: 0.6848\n",
            "Epoch 91/100\n",
            "63/63 [==============================] - 6s 93ms/step - loss: 0.3614 - accuracy: 0.8895 - val_loss: 2.4337 - val_accuracy: 0.6869\n",
            "Epoch 92/100\n",
            "63/63 [==============================] - 6s 94ms/step - loss: 0.3599 - accuracy: 0.8892 - val_loss: 2.4546 - val_accuracy: 0.6843\n",
            "Epoch 93/100\n",
            "63/63 [==============================] - 6s 95ms/step - loss: 0.3537 - accuracy: 0.8911 - val_loss: 2.4237 - val_accuracy: 0.6862\n",
            "Epoch 94/100\n",
            "63/63 [==============================] - 6s 95ms/step - loss: 0.3476 - accuracy: 0.8914 - val_loss: 2.4529 - val_accuracy: 0.6861\n",
            "Epoch 95/100\n",
            "63/63 [==============================] - 6s 94ms/step - loss: 0.3461 - accuracy: 0.8919 - val_loss: 2.4461 - val_accuracy: 0.6840\n",
            "Epoch 96/100\n",
            "63/63 [==============================] - 6s 94ms/step - loss: 0.3412 - accuracy: 0.8924 - val_loss: 2.4625 - val_accuracy: 0.6842\n",
            "Epoch 97/100\n",
            "63/63 [==============================] - 6s 94ms/step - loss: 0.3388 - accuracy: 0.8927 - val_loss: 2.4449 - val_accuracy: 0.6888\n",
            "Epoch 98/100\n",
            "63/63 [==============================] - 6s 93ms/step - loss: 0.3357 - accuracy: 0.8939 - val_loss: 2.4628 - val_accuracy: 0.6856\n",
            "Epoch 99/100\n",
            "63/63 [==============================] - 6s 95ms/step - loss: 0.3300 - accuracy: 0.8942 - val_loss: 2.4665 - val_accuracy: 0.6889\n",
            "Epoch 100/100\n",
            "63/63 [==============================] - 6s 93ms/step - loss: 0.3287 - accuracy: 0.8940 - val_loss: 2.4518 - val_accuracy: 0.6874\n"
          ],
          "name": "stdout"
        }
      ]
    },
    {
      "cell_type": "code",
      "metadata": {
        "id": "8b8xakb_Krym",
        "colab_type": "code",
        "colab": {
          "base_uri": "https://localhost:8080/",
          "height": 265
        },
        "outputId": "679ce930-0176-4c3e-ae32-9ea938e298ee"
      },
      "source": [
        "#ploting the loss\n",
        "plt.plot(train.history['loss'],label='loss')\n",
        "plt.plot(train.history['val_loss'],label='val_loss')\n",
        "plt.legend()\n",
        "plt.show()"
      ],
      "execution_count": 24,
      "outputs": [
        {
          "output_type": "display_data",
          "data": {
            "image/png": "[encoded data removed]",
            "text/plain": [
              "<Figure size 432x288 with 1 Axes>"
            ]
          },
          "metadata": {
            "tags": [],
            "needs_background": "light"
          }
        }
      ]
    },
    {
      "cell_type": "code",
      "metadata": {
        "id": "Ds70Ufh6KrRh",
        "colab_type": "code",
        "colab": {
          "base_uri": "https://localhost:8080/",
          "height": 265
        },
        "outputId": "8612422c-3bf7-46ec-dfa6-dca6860e575d"
      },
      "source": [
        "#ploting the acc\n",
        "plt.plot(train.history['accuracy'],label='acc')\n",
        "plt.plot(train.history['val_accuracy'],label='val_acc')\n",
        "plt.legend()\n",
        "plt.show()"
      ],
      "execution_count": 25,
      "outputs": [
        {
          "output_type": "display_data",
          "data": {
            "image/png": "[encoded data removed]",
            "text/plain": [
              "<Figure size 432x288 with 1 Axes>"
            ]
          },
          "metadata": {
            "tags": [],
            "needs_background": "light"
          }
        }
      ]
    },
    {
      "cell_type": "code",
      "metadata": {
        "id": "fBYZQWVqKrMe",
        "colab_type": "code",
        "colab": {
          "base_uri": "https://localhost:8080/",
          "height": 52
        },
        "outputId": "d6c8f12c-c799-4cb2-beaa-0ab964dfa2db"
      },
      "source": [
        "#make prediction\n",
        "encoder_model = Model(encoder_inputs_placeholder, encoder_outputs)\n",
        "\n",
        "encoder_outputs_as_input = Input(shape=(max_len_input,LATENT_DIM*2,))\n",
        "decoder_inputs_single = Input(shape=(1,))\n",
        "decoder_inputs_single_x = decoder_embedding(decoder_inputs_single)\n",
        "\n",
        "context = one_step_attention(encoder_outputs_as_input,initial_s)\n",
        "\n",
        "decoder_lstm_input = context_last_word_concat_layer([context, decoder_inputs_single_x])\n",
        "\n",
        "o,s,c = decoder_lstm(decoder_lstm_input,initial_state=[initial_s,initial_c])\n",
        "decoder_outputs = decoder_dense(o)"
      ],
      "execution_count": 27,
      "outputs": [
        {
          "output_type": "stream",
          "text": [
            "(None, 5, 512)\n",
            "(None, 5, 256)\n"
          ],
          "name": "stdout"
        }
      ]
    },
    {
      "cell_type": "code",
      "metadata": {
        "id": "jJYeH7XeNEgr",
        "colab_type": "code",
        "colab": {}
      },
      "source": [
        "#create a model\n",
        "decoder_model = Model(\n",
        "    inputs=[\n",
        "            decoder_inputs_single,\n",
        "            encoder_outputs_as_input,\n",
        "            initial_s,\n",
        "            initial_c\n",
        "    ],outputs=[decoder_outputs,s,c]\n",
        ")"
      ],
      "execution_count": 0,
      "outputs": []
    },
    {
      "cell_type": "code",
      "metadata": {
        "id": "5yLt9FB5NEdJ",
        "colab_type": "code",
        "colab": {}
      },
      "source": [
        "idx2word_eng = {v:k for k,v in word2idx_inputs.items()}\n",
        "idx2word_trans = {v:k for k,v in word2idx_outputs.items()}"
      ],
      "execution_count": 0,
      "outputs": []
    },
    {
      "cell_type": "code",
      "metadata": {
        "id": "h7Vfr7w_NyXi",
        "colab_type": "code",
        "colab": {}
      },
      "source": [
        "def decode_sequence(input_seq):\n",
        "  #encode the input as state vec\n",
        "  enc_out = encoder_model.predict(input_seq)\n",
        "\n",
        "  #empty target seq of len 1\n",
        "  target_seq = np.zeros((1,1))\n",
        "\n",
        "  target_seq[0,0] = word2idx_outputs['<sos>']\n",
        "\n",
        "  eos = word2idx_outputs['<eos>']\n",
        "\n",
        "  s = np.zeros((1,LATENT_DIM_DECODER))\n",
        "  c = np.zeros((1,LATENT_DIM_DECODER))\n",
        "\n",
        "  #create the translation\n",
        "  output_sentence = []\n",
        "  for _ in range(max_len_target):\n",
        "    o ,h, c = decoder_model.predict([target_seq,enc_out,s,c])\n",
        "\n",
        "    #GET NEXT WORD\n",
        "    idx = np.argmax(o.flatten())\n",
        "\n",
        "    if eos == idx:\n",
        "      break\n",
        "\n",
        "    word = ''\n",
        "    if idx>0:\n",
        "      word = idx2word_trans[idx]\n",
        "      output_sentence.append(word)\n",
        "\n",
        "    target_seq[0,0] = idx\n",
        "\n",
        "  return \" \".join(output_sentence)"
      ],
      "execution_count": 0,
      "outputs": []
    },
    {
      "cell_type": "code",
      "metadata": {
        "id": "GgoqMMeCNyT5",
        "colab_type": "code",
        "colab": {}
      },
      "source": [
        "while True:\n",
        "  i = np.random.choice(len(input_texts))\n",
        "  input_seq = encoder_inputs[i:i+1]\n",
        "  translation = decode_sequence(input_seq)\n",
        "  print('-----')\n",
        "  print('Input:',input_texts[i])\n",
        "  print('Translation:',translation)\n",
        "\n",
        "  ans = input('Continue??[y/n]')\n",
        "  if ans and ans[0].lower().startswith('n'):\n",
        "    break"
      ],
      "execution_count": 0,
      "outputs": []
    },
    {
      "cell_type": "code",
      "metadata": {
        "id": "FO8pCpYtKMUB",
        "colab_type": "code",
        "colab": {}
      },
      "source": [
        ""
      ],
      "execution_count": 0,
      "outputs": []
    }
  ]
}